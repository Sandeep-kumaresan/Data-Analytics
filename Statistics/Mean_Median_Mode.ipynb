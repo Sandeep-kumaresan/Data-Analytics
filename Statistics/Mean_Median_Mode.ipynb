{
 "cells": [
  {
   "cell_type": "markdown",
   "metadata": {},
   "source": [
    "Calculate Mean using Numpy"
   ]
  },
  {
   "cell_type": "code",
   "execution_count": 2,
   "metadata": {},
   "outputs": [
    {
     "data": {
      "text/plain": [
       "np.float64(26820.25203534019)"
      ]
     },
     "execution_count": 2,
     "metadata": {},
     "output_type": "execute_result"
    }
   ],
   "source": [
    "import numpy as np\n",
    "income = np.random.normal(27000,15000,10000)\n",
    "np.mean(income)\n",
    "\n",
    "\n"
   ]
  },
  {
   "cell_type": "markdown",
   "metadata": {},
   "source": [
    "Plot Histogram using Matplotlib"
   ]
  },
  {
   "cell_type": "code",
   "execution_count": 5,
   "metadata": {},
   "outputs": [
    {
     "data": {
      "text/plain": [
       "(array([  1.,   1.,   0.,   1.,   8.,   9.,  24.,  32.,  40.,  52.,  87.,\n",
       "        127., 179., 188., 284., 339., 370., 464., 491., 560., 611., 667.,\n",
       "        657., 632., 669., 595., 551., 445., 385., 362., 283., 247., 185.,\n",
       "        141., 101.,  52.,  69.,  34.,  20.,  11.,  11.,   8.,   5.,   1.,\n",
       "          0.,   0.,   0.,   0.,   0.,   1.]),\n",
       " array([-28573.01717707, -26123.73319557, -23674.44921406, -21225.16523256,\n",
       "        -18775.88125105, -16326.59726955, -13877.31328804, -11428.02930654,\n",
       "         -8978.74532503,  -6529.46134353,  -4080.17736202,  -1630.89338052,\n",
       "           818.39060099,   3267.67458249,   5716.958564  ,   8166.2425455 ,\n",
       "         10615.52652701,  13064.81050851,  15514.09449002,  17963.37847152,\n",
       "         20412.66245303,  22861.94643453,  25311.23041604,  27760.51439754,\n",
       "         30209.79837905,  32659.08236055,  35108.36634206,  37557.65032356,\n",
       "         40006.93430507,  42456.21828657,  44905.50226808,  47354.78624958,\n",
       "         49804.07023109,  52253.35421259,  54702.6381941 ,  57151.9221756 ,\n",
       "         59601.20615711,  62050.49013861,  64499.77412011,  66949.05810162,\n",
       "         69398.34208312,  71847.62606463,  74296.91004613,  76746.19402764,\n",
       "         79195.47800914,  81644.76199065,  84094.04597215,  86543.32995366,\n",
       "         88992.61393516,  91441.89791667,  93891.18189817]),\n",
       " <BarContainer object of 50 artists>)"
      ]
     },
     "execution_count": 5,
     "metadata": {},
     "output_type": "execute_result"
    },
    {
     "data": {
      "image/png": "[encoded data removed]",
      "text/plain": [
       "<Figure size 640x480 with 1 Axes>"
      ]
     },
     "metadata": {},
     "output_type": "display_data"
    }
   ],
   "source": [
    "#%matplotlib inline\n",
    "import matplotlib.pyplot as plt\n",
    "plt.hist(income,50)"
   ]
  },
  {
   "cell_type": "code",
   "execution_count": 21,
   "metadata": {},
   "outputs": [
    {
     "data": {
      "text/plain": [
       "np.float64(27243.365363052486)"
      ]
     },
     "execution_count": 21,
     "metadata": {},
     "output_type": "execute_result"
    }
   ],
   "source": [
    "np.median(income)"
   ]
  },
  {
   "cell_type": "code",
   "execution_count": 22,
   "metadata": {},
   "outputs": [],
   "source": [
    "income = np.append(income,[1000000000])"
   ]
  },
  {
   "cell_type": "code",
   "execution_count": 23,
   "metadata": {},
   "outputs": [
    {
     "data": {
      "text/plain": [
       "np.float64(27093.29511871587)"
      ]
     },
     "execution_count": 23,
     "metadata": {},
     "output_type": "execute_result"
    }
   ],
   "source": [
    "np.mean(income)"
   ]
  },
  {
   "cell_type": "code",
   "execution_count": 24,
   "metadata": {},
   "outputs": [
    {
     "data": {
      "text/plain": [
       "np.float64(27244.738743185382)"
      ]
     },
     "execution_count": 24,
     "metadata": {},
     "output_type": "execute_result"
    }
   ],
   "source": [
    "np.median(income)"
   ]
  },
  {
   "cell_type": "code",
   "execution_count": 3,
   "metadata": {},
   "outputs": [
    {
     "data": {
      "text/plain": [
       "array([72, 33, 17, 80, 91, 57, 87, 67, 74, 47, 18, 82, 98,  4, 43, 89, 56,\n",
       "       69, 57,  9, 58, 43, 32, 51, 50, 29, 25, 49, 51, 40, 92, 28, 25, 43,\n",
       "       22,  5, 98, 82, 69, 13,  2, 71, 18, 34, 49, 50,  3, 72, 57, 16, 70,\n",
       "        6, 71, 77, 76, 56,  3, 69, 33, 96, 45, 44, 94, 27, 87, 24, 89, 45,\n",
       "       50, 86, 44, 68, 50, 18, 28, 48, 79, 95, 68,  6, 57, 56, 65, 69, 18,\n",
       "       43, 93, 45, 85, 78, 39, 75, 48, 71, 78, 35, 60,  8, 22, 85,  5, 50,\n",
       "       61, 49, 52, 18, 31, 62, 79, 92, 84, 96, 29, 59, 57, 98, 13, 31, 43,\n",
       "       16])"
      ]
     },
     "execution_count": 3,
     "metadata": {},
     "output_type": "execute_result"
    }
   ],
   "source": [
    "data = np.random.randint(1,high=99,size=120)\n",
    "data"
   ]
  },
  {
   "cell_type": "code",
   "execution_count": 4,
   "metadata": {},
   "outputs": [
    {
     "data": {
      "text/plain": [
       "ModeResult(mode=np.int64(18), count=np.int64(5))"
      ]
     },
     "execution_count": 4,
     "metadata": {},
     "output_type": "execute_result"
    }
   ],
   "source": [
    "from scipy import stats\n",
    "stats.mode(data)"
   ]
  }
 ],
 "metadata": {
  "kernelspec": {
   "display_name": "Python 3",
   "language": "python",
   "name": "python3"
  },
  "language_info": {
   "codemirror_mode": {
    "name": "ipython",
    "version": 3
   },
   "file_extension": ".py",
   "mimetype": "text/x-python",
   "name": "python",
   "nbconvert_exporter": "python",
   "pygments_lexer": "ipython3",
   "version": "3.10.12"
  }
 },
 "nbformat": 4,
 "nbformat_minor": 2
}
